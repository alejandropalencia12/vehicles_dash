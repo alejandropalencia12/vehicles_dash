{
 "cells": [
  {
   "cell_type": "code",
   "execution_count": null,
   "id": "763369cd",
   "metadata": {},
   "outputs": [],
   "source": [
    "#Cargar las librerias\n",
    "import pandas as pd\n",
    "import plotly.express as px\n",
    "\n",
    "car_data = pd.read_csv('../vehicles_us.csv')\n",
    "car_data.head(10)"
   ]
  },
  {
   "cell_type": "code",
   "execution_count": null,
   "id": "79482e97",
   "metadata": {},
   "outputs": [],
   "source": [
    "# Visualizar la distribución del odómetro\n",
    "fig = px.histogram(car_data, x=\"odometer\", title=\"Distribución del Odómetro\")\n",
    "fig.show()"
   ]
  },
  {
   "cell_type": "code",
   "execution_count": null,
   "id": "c2a41435",
   "metadata": {},
   "outputs": [],
   "source": [
    "\n",
    "fig = px.scatter(car_data, x=\"odometer\", y=\"price\", title=\"Precio vs Odómetro\")\n",
    "fig.show()\n"
   ]
  }
 ],
 "metadata": {
  "kernelspec": {
   "display_name": "vehicles_env",
   "language": "python",
   "name": "python3"
  },
  "language_info": {
   "codemirror_mode": {
    "name": "ipython",
    "version": 3
   },
   "file_extension": ".py",
   "mimetype": "text/x-python",
   "name": "python",
   "nbconvert_exporter": "python",
   "pygments_lexer": "ipython3",
   "version": "3.12.3"
  }
 },
 "nbformat": 4,
 "nbformat_minor": 5
}
